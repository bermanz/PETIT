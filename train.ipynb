{
 "cells": [
  {
   "cell_type": "code",
   "execution_count": null,
   "metadata": {},
   "outputs": [],
   "source": [
    "%load_ext autoreload\n",
    "%autoreload 2\n",
    "\n",
    "from pathlib import Path\n",
    "import sys\n",
    "sys.path.append(str(Path.cwd() / 'src'))\n",
    "\n",
    "from src.configs import TrainConfig\n",
    "import numpy as np\n",
    "from tqdm import tqdm\n",
    "import torch\n",
    "from src.test import get_fid_score\n",
    "from multiprocessing import cpu_count\n",
    "import matplotlib.pyplot as plt\n",
    "from datetime import datetime\n",
    "\n",
    "config = TrainConfig()"
   ]
  },
  {
   "attachments": {},
   "cell_type": "markdown",
   "metadata": {},
   "source": [
    "# Create dataloaders"
   ]
  },
  {
   "cell_type": "code",
   "execution_count": null,
   "metadata": {},
   "outputs": [],
   "source": [
    "from dataset import getDataLoader\n",
    "from utils.deep import NetPhase\n",
    "train_loader = getDataLoader(is_train=True, bandwidth=config.wl, batch_size=config.data_loader.batch_size,\n",
    "                             path_to_data='data')  # create a Dataset given opt.dataset_mode and other options\n",
    "val_loader = getDataLoader(is_train=False, bandwidth=config.wl, batch_size=config.data_loader.batch_size,\n",
    "                           path_to_data='data')  # create a Dataset for evaluating the results after each iteration\n",
    "print(f\"The number of training images = {len(train_loader) * config.data_loader.batch_size}\")"
   ]
  },
  {
   "attachments": {},
   "cell_type": "markdown",
   "metadata": {},
   "source": [
    "# Model Setup\n",
    "Configure and initialize the model to be trained according to the desired specifications:\n",
    "1. Model backbone (default is CUT).\n",
    "2. Use the camera intrinsic (FPA) temperature (default is True).\n",
    "3. Use the physical model (default is True)."
   ]
  },
  {
   "cell_type": "code",
   "execution_count": null,
   "metadata": {},
   "outputs": [],
   "source": [
    "from cycle_gan_model import CycleGANModel\n",
    "from cut_model import CUTModel\n",
    "\n",
    "# config.model = \"CUT\" # \"CycleGan\"\n",
    "# config.thermal.is_fpa_input = True\n",
    "# config.thermal.is_physical_model = True\n",
    "\n",
    "\n",
    "backbone = CUTModel if config.model == \"CUT\" else CycleGANModel\n",
    "model = backbone(config)\n",
    "\n",
    "model.setup(config)"
   ]
  },
  {
   "attachments": {},
   "cell_type": "markdown",
   "metadata": {},
   "source": [
    "# Train\n",
    "The model's training loop. At the end of every epoch, an auxiliary visualization of images is produced, with the following labels:\n",
    "1. \"pan_real\" - the real panchromatic input image.\n",
    "2. \"mono_phys\" - the physical model's prediction of the monochromatic (9000nm) output.\n",
    "3. \"mono_fake\" - the fusion (physical + deep backbone) model's prediction of the monochromatic output.\n",
    "4. \"mono_real\" - an unpaired real monochromatic image for reference."
   ]
  },
  {
   "cell_type": "code",
   "execution_count": null,
   "metadata": {},
   "outputs": [],
   "source": [
    "# TODO: update order of visualized images (mono_phys before mono_fake)\n",
    "path_to_save = Path.cwd() / 'results' / 'train' / datetime.now().strftime(\"%Y%m%d_h%Hm%Ms%S\")\n",
    "path_to_save.mkdir(parents=True, exist_ok=True)\n",
    "\n",
    "tot_epochs = config.scheduler.n_epochs + config.scheduler.n_epochs_decay + 1\n",
    "best_fid_score = np.inf  # initialize fid threshold for best solution saving\n",
    "rand_val_idx = np.random.randint(low=0, high=len(val_loader))  # used to randomly pick image for saving\n",
    "for epoch in range(1, tot_epochs):\n",
    "    # Train\n",
    "    model.set_phase(NetPhase.train)\n",
    "    for i, data in enumerate(tqdm(train_loader, postfix=\"Train\", desc=f\"Epoch {epoch}|{tot_epochs-1}\")):\n",
    "        if epoch == 1 and i == 0 and 'cut' in str(model.__class__).lower():  # first iteration:\n",
    "            model.data_dependent_initialize(data)\n",
    "        model.set_input(data)\n",
    "        model.forward()\n",
    "\n",
    "        if config.network.gan_mode == \"wgangp\" and i % config.network.n_critic:\n",
    "            train_gen = False\n",
    "        else:\n",
    "            train_gen = True\n",
    "        model.optimize_parameters(train_gen)\n",
    "    model.update_loss(epoch, len(train_loader))\n",
    "\n",
    "    # Validate\n",
    "    model.set_phase(NetPhase.val)\n",
    "    with torch.inference_mode():\n",
    "        for i, data in enumerate(tqdm(val_loader, postfix=\"Validate\", desc=f\"Epoch {epoch}|{tot_epochs-1}\")):\n",
    "            model.set_input(data)\n",
    "            model.forward()\n",
    "\n",
    "            # additionally calculate losses for visualization purposes:\n",
    "            model.calc_loss_D()\n",
    "            model.calc_loss_G()\n",
    "            model.update_agg_loss()\n",
    "\n",
    "            # track visual performance:\n",
    "            if i in [0, rand_val_idx]:\n",
    "                plt.figure(figsize=(20, 10))\n",
    "                plt.imshow(model.gen_vis_grid().permute(1, 2, 0))\n",
    "                plt.show()\n",
    "                plt.close()\n",
    "\n",
    "    model.update_loss(epoch, len(val_loader))\n",
    "    model.update_learning_rate()  # update learning rates in the beginning of every epoch.\n",
    "\n",
    "    # calculate FID. TODO: remove after asserting the correlation with loss components\n",
    "    fid_score = get_fid_score(config, model, batch_size=cpu_count())\n",
    "    if fid_score < best_fid_score:\n",
    "        model.save_networks(\"best\", path_to_save / \"checkpoints\")\n",
    "        best_fid_score = fid_score\n",
    "        print(f'Best FID score: {best_fid_score}')\n",
    "\n",
    "model.save_networks(\"last\", path_to_save / \"checkpoints\")"
   ]
  }
 ],
 "metadata": {
  "kernelspec": {
   "display_name": "venv",
   "language": "python",
   "name": "python3"
  },
  "language_info": {
   "codemirror_mode": {
    "name": "ipython",
    "version": 3
   },
   "file_extension": ".py",
   "mimetype": "text/x-python",
   "name": "python",
   "nbconvert_exporter": "python",
   "pygments_lexer": "ipython3",
   "version": "3.10.9"
  },
  "orig_nbformat": 4
 },
 "nbformat": 4,
 "nbformat_minor": 2
}
