{
 "cells": [
  {
   "cell_type": "code",
   "execution_count": null,
   "metadata": {},
   "outputs": [],
   "source": [
    "%load_ext autoreload\n",
    "%autoreload 2\n",
    "!pip install numpy matplotlib tqdm\n",
    "!pip install --upgrade pip\n",
    "\n",
    "import numpy as np\n",
    "from pathlib import Path\n",
    "from tqdm import tqdm\n",
    "import matplotlib.pyplot as plt\n",
    "\n",
    "\n",
    "path = Path('/mnt/e/PycharmProjects/Colorization/rawData/results/results.npz')\n",
    "if not path.is_file():\n",
    "    raise FileNotFoundError(f'File {path} not found')\n",
    "path_to_save = Path('figs/scheme/')\n",
    "path_to_save.mkdir(parents=True, exist_ok=True)\n",
    "data = {k:v for k,v in np.load(path).items()}\n",
    "print('Loaded data from', path)\n",
    "print('Available keys:', list(data.keys()))\n",
    "print('Number of samples:', len(data['mono']))\n",
    "print('Shape of samples:', data['mono'][0].shape)"
   ]
  },
  {
   "cell_type": "markdown",
   "metadata": {},
   "source": [
    "# Display some samples"
   ]
  },
  {
   "cell_type": "markdown",
   "metadata": {},
   "source": [
    "### PAN"
   ]
  },
  {
   "cell_type": "code",
   "execution_count": null,
   "metadata": {},
   "outputs": [],
   "source": [
    "# crop = 1\n",
    "\n",
    "# indices = [63,99]\n",
    "# # indices = np.arange(0, len(data['pan']))\n",
    "# # indices = np.random.choice(len(data['pan']), 30, replace=False)\n",
    "# print('Selected indices:', indices)\n",
    "# for idx in sorted(indices):\n",
    "#     pan = data['pan'][idx][crop:-crop, crop:-crop]\n",
    "#     plt.figure(frameon=False)\n",
    "#     plt.imshow(pan, cmap='gray', interpolation='none')\n",
    "#     # plt.axis('off')\n",
    "#     plt.title(f'Panchromatic image {idx}')\n",
    "#     plt.tight_layout(pad=0)\n",
    "#     plt.show()\n",
    "#     # plt.savefig(path_to_save / f'h_maker_pan_{idx}.png', bbox_inches='tight', pad_inches=0)\n",
    "\n",
    "\n",
    "# b=a\n"
   ]
  },
  {
   "cell_type": "markdown",
   "metadata": {},
   "source": [
    "### MONO"
   ]
  },
  {
   "cell_type": "code",
   "execution_count": null,
   "metadata": {},
   "outputs": [],
   "source": [
    "crop = 40\n",
    "\n",
    "# indices = np.random.choice(len(data['mono']), 10, replace=False)\n",
    "# print('Selected indices:', indices)\n",
    "# for idx in indices:\n",
    "#     mono = data['mono'][idx][crop:-crop, crop:-crop]\n",
    "#     pan = data['pan'][idx][crop:-crop, crop:-crop]\n",
    "#     mask = data['mask'][idx]\n",
    "#     plt.figure(figsize=(15, 5))\n",
    "#     plt.subplot(131)\n",
    "#     plt.imshow(mono)\n",
    "#     plt.title('Mono')\n",
    "#     plt.subplot(132)\n",
    "#     plt.imshow(pan)\n",
    "#     plt.title('Pan')\n",
    "#     plt.subplot(133)\n",
    "#     plt.imshow(mask)\n",
    "#     plt.title('Mask')\n",
    "#     plt.show()\n",
    "\n"
   ]
  },
  {
   "cell_type": "markdown",
   "metadata": {},
   "source": [
    "### Both"
   ]
  },
  {
   "cell_type": "code",
   "execution_count": null,
   "metadata": {},
   "outputs": [],
   "source": [
    "crop = 35\n",
    "\n",
    "\n",
    "losses = []\n",
    "for idx in tqdm(range(len(data['mono']))):\n",
    "    mono = data['mono'][idx][crop:-crop, crop:-crop]\n",
    "    petit = data['pred_petit'][idx][crop:-crop, crop:-crop]\n",
    "    losses.append(np.linalg.norm(mono - petit, ord=2) / np.prod(mono.shape))\n"
   ]
  },
  {
   "cell_type": "code",
   "execution_count": null,
   "metadata": {},
   "outputs": [],
   "source": [
    "cmap = 'gray'\n",
    "indices = np.argsort(losses)[:50]\n",
    "print('Selected indices:', indices)\n",
    "for idx in indices:\n",
    "    mono = data['mono'][idx][crop:-crop, crop:-crop]\n",
    "    pan = data['pan_original'][idx][crop:-crop, crop:-crop]\n",
    "    petit = data['pred_petit'][idx][crop:-crop, crop:-crop]\n",
    "    baseline = data['pred_baseline'][idx][crop:-crop, crop:-crop]\n",
    "    loss_l1 = data['l1_petit'][idx]\n",
    "    loss_l2 = losses[idx]\n",
    "    mask = data['mask'][idx]\n",
    "\n",
    "    # plt.figure()\n",
    "    # plt.imshow(mono - petit, cmap='bwr')\n",
    "    # plt.colorbar()\n",
    "    # plt.title(f\"Index {idx}, l1 {loss_l1:.2f}, l2 {loss_l2:.2f}\")\n",
    "    # plt.show()\n",
    "\n",
    "\n",
    "    # plt.figure(frameon=False)\n",
    "    # plt.imshow(mono, cmap='gray', interpolation='none')\n",
    "    # plt.axis('off')\n",
    "    # plt.title(f'Panchromatic image {idx}')\n",
    "    # plt.tight_layout(pad=0)\n",
    "    # plt.show()\n",
    "    # plt.savefig(path_to_save / f'data_pan_{idx}.png', bbox_inches='tight', pad_inches=0)\n",
    "\n",
    "    plt.figure(figsize=(15, 5))\n",
    "    plt.subplot(131)\n",
    "    plt.imshow(mono, cmap=cmap)\n",
    "    plt.title('Mono')\n",
    "    plt.subplot(132)\n",
    "    plt.imshow(pan, cmap=cmap)\n",
    "    plt.title('Pan')\n",
    "    plt.subplot(133)\n",
    "    plt.imshow(petit, cmap=cmap)\n",
    "    plt.title('Petit')\n",
    "    plt.title(f\"Index {idx}, l1 {loss_l1:.2f}, l2 {loss_l2:.2f}\")\n",
    "    plt.show()\n",
    "\n"
   ]
  },
  {
   "cell_type": "code",
   "execution_count": null,
   "metadata": {},
   "outputs": [],
   "source": [
    "# Make schematic homography matrix figure\n",
    "h_scheme = np.array([[1.02, -1e-3, 12],\n",
    "                     [0.01, 0.98, -26],\n",
    "                     [1e-5, -1e-6, 1]])\n",
    "h_scheme"
   ]
  },
  {
   "cell_type": "code",
   "execution_count": null,
   "metadata": {},
   "outputs": [],
   "source": [
    "# Save figs for schematic\n",
    "idx = 78\n",
    "mono = data['mono'][idx]\n",
    "warped = data['pan'][idx]\n",
    "pan = data['pan_original'][idx]\n",
    "petit = data['pred_petit'][idx]\n",
    "\n",
    "# # Save mono\n",
    "# plt.figure(frameon=False)\n",
    "# plt.imshow(mono, cmap='gray', interpolation='none')\n",
    "# plt.axis('off')\n",
    "# plt.tight_layout(pad=0)\n",
    "# plt.show()\n",
    "# plt.savefig(path_to_save / f'scheme_data_mono_{idx}.png', bbox_inches='tight', pad_inches=0)\n",
    "\n",
    "# # Save warped\n",
    "# vmin = warped[warped > 0].min()\n",
    "# plt.figure(frameon=False)\n",
    "# plt.imshow(warped, cmap='gray', interpolation='none', vmin=vmin)\n",
    "# plt.axis('off')\n",
    "# plt.tight_layout(pad=0)\n",
    "# # plt.show()\n",
    "# plt.savefig(path_to_save / f'scheme_data_warped_{idx}.png', bbox_inches='tight', pad_inches=0)\n",
    "\n",
    "# # Save pan\n",
    "# plt.figure(frameon=False)\n",
    "# plt.imshow(pan, cmap='gray', interpolation='none')\n",
    "# plt.axis('off')\n",
    "# plt.tight_layout(pad=0)\n",
    "# # plt.show()\n",
    "# plt.savefig(path_to_save / f'scheme_data_pan_{idx}.png', bbox_inches='tight', pad_inches=0)\n",
    "\n",
    "# # Save mask\n",
    "# mask = warped == 0\n",
    "# plt.figure(frameon=False)\n",
    "# plt.imshow(mask, cmap='gray', interpolation='none')\n",
    "# plt.axis('off')\n",
    "# plt.tight_layout(pad=0)\n",
    "# # plt.show()\n",
    "# plt.savefig(path_to_save / f'scheme_data_mask_{idx}.png', bbox_inches='tight', pad_inches=0)\n",
    "\n",
    "# Save pred petit\n",
    "crop = 35\n",
    "plt.figure(frameon=False)\n",
    "plt.imshow(petit[crop:-crop, crop:-crop], cmap='gray', interpolation='none')\n",
    "plt.axis('off')\n",
    "plt.tight_layout(pad=0)\n",
    "plt.show()\n",
    "# plt.savefig(path_to_save / f'scheme_data_petit_{idx}.png', bbox_inches='tight', pad_inches=0)\n",
    "\n"
   ]
  },
  {
   "cell_type": "code",
   "execution_count": null,
   "metadata": {},
   "outputs": [],
   "source": []
  }
 ],
 "metadata": {
  "kernelspec": {
   "display_name": "venv",
   "language": "python",
   "name": "python3"
  },
  "language_info": {
   "codemirror_mode": {
    "name": "ipython",
    "version": 3
   },
   "file_extension": ".py",
   "mimetype": "text/x-python",
   "name": "python",
   "nbconvert_exporter": "python",
   "pygments_lexer": "ipython3",
   "version": "3.10.8"
  },
  "orig_nbformat": 4
 },
 "nbformat": 4,
 "nbformat_minor": 2
}
